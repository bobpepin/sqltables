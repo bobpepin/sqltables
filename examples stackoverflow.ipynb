{
 "cells": [
  {
   "cell_type": "code",
   "execution_count": 1,
   "metadata": {},
   "outputs": [],
   "source": [
    "import sqltables"
   ]
  },
  {
   "cell_type": "code",
   "execution_count": 2,
   "metadata": {},
   "outputs": [],
   "source": [
    "# https://stackoverflow.com/questions/64793902/python-merge-several-columns-of-a-dataframe-without-having-duplicates-of-data\n",
    "Name = ['Lolo', 'Mike', 'Tobias','Luke','Sam']\n",
    "Age = [19, 34, 13, 45, 52]\n",
    "Info_1 = ['Tall', 'Large', 'Small', 'Small','']\n",
    "Info_2 = ['New York', 'Paris', 'Lisbon', '', 'Berlin']\n",
    "Info_3 = ['Tall', 'Paris', 'Hi', 'Small', 'Thanks']\n",
    "Data = [123,268,76,909,87]\n",
    "Sex = ['F', 'M', 'M','M','M']\n",
    "\n",
    "columns = {'Name' : Name, 'Age' : Age, 'Info_1' : Info_1, 'Info_2' : Info_2, 'Info_3' : Info_3, 'Data' : Data, 'Sex' : Sex}"
   ]
  },
  {
   "cell_type": "code",
   "execution_count": 3,
   "metadata": {},
   "outputs": [
    {
     "data": {
      "text/markdown": [
       "|Name|Age|Info\\_1|Info\\_2|Info\\_3|Data|Sex|\n",
       "|-|-|-|-|-|-|-|\n",
       "|\\'Lolo\\'|19|\\'Tall\\'|\\'New York\\'|\\'Tall\\'|123|\\'F\\'|\n",
       "|\\'Mike\\'|34|\\'Large\\'|\\'Paris\\'|\\'Paris\\'|268|\\'M\\'|\n",
       "|\\'Tobias\\'|13|\\'Small\\'|\\'Lisbon\\'|\\'Hi\\'|76|\\'M\\'|\n",
       "|\\'Luke\\'|45|\\'Small\\'|\\'\\'|\\'Small\\'|909|\\'M\\'|\n",
       "|\\'Sam\\'|52|\\'\\'|\\'Berlin\\'|\\'Thanks\\'|87|\\'M\\'|\n"
      ],
      "text/plain": [
       "<sqltables.Table at 0x10fe67970>"
      ]
     },
     "execution_count": 3,
     "metadata": {},
     "output_type": "execute_result"
    }
   ],
   "source": [
    "db = sqltables.Database()\n",
    "tab = db.load_values(zip(*columns.values()), column_names=columns.keys())\n",
    "tab"
   ]
  },
  {
   "cell_type": "code",
   "execution_count": 4,
   "metadata": {},
   "outputs": [
    {
     "data": {
      "text/markdown": [
       "|Name|Age|Info\\_1|Info\\_2|Info\\_3|Data|Sex|Info|\n",
       "|-|-|-|-|-|-|-|-|\n",
       "|\\'Lolo\\'|19|\\'Tall\\'|\\'New York\\'|\\'Tall\\'|123|\\'F\\'|\\'New York Tall\\'|\n",
       "|\\'Mike\\'|34|\\'Large\\'|\\'Paris\\'|\\'Paris\\'|268|\\'M\\'|\\'Large Paris\\'|\n",
       "|\\'Tobias\\'|13|\\'Small\\'|\\'Lisbon\\'|\\'Hi\\'|76|\\'M\\'|\\'Hi Lisbon Small\\'|\n",
       "|\\'Luke\\'|45|\\'Small\\'|\\'\\'|\\'Small\\'|909|\\'M\\'|\\'Small\\'|\n",
       "|\\'Sam\\'|52|\\'\\'|\\'Berlin\\'|\\'Thanks\\'|87|\\'M\\'|\\'Berlin Thanks\\'|\n"
      ],
      "text/plain": [
       "<sqltables.Table at 0x10fe679d0>"
      ]
     },
     "execution_count": 4,
     "metadata": {},
     "output_type": "execute_result"
    }
   ],
   "source": [
    "info_tab = tab \\\n",
    "    .view(\"select Name, Info_1 as Info from _ union select Name, Info_2 as Info from _ union select Name, Info_3 as Info from _\") \\\n",
    "    .view(\"select distinct * from _\") \\\n",
    "    .view(\"select Name, group_concat(Info, ' ') as Info from _ where Info != '' group by Name\")\n",
    "tab.view(\"select _.*, coalesce(info.Info, '') as Info from _ left join info on _.Name = info.Name\",\n",
    "        bindings={\"info\": info_tab})"
   ]
  },
  {
   "cell_type": "code",
   "execution_count": 5,
   "metadata": {},
   "outputs": [
    {
     "data": {
      "text/markdown": [
       "|col\\_1|col\\_2|\n",
       "|-|-|\n",
       "|\\'a\\'|\\'4\\'|\n",
       "|\\'a\\'|\\'3\\'|\n",
       "|\\'b\\'|\\'2\\'|\n",
       "|\\'c\\'|\\'2\\'|\n",
       "|\\'d\\'|\\'1\\'|\n",
       "|\\'b\\'|\\'4\\'|\n",
       "|\\'c\\'|\\'1\\'|\n"
      ],
      "text/plain": [
       "<sqltables.Table at 0x10fe74970>"
      ]
     },
     "execution_count": 5,
     "metadata": {},
     "output_type": "execute_result"
    }
   ],
   "source": [
    "# https://stackoverflow.com/questions/64793653/how-to-convert-a-dataframe-to-ndarray-of-0s-and-1s\n",
    "example = \"\"\"\n",
    "col_1 col_2\n",
    "a     4\n",
    "a     3\n",
    "b     2\n",
    "c     2\n",
    "d     1\n",
    "b     4\n",
    "c     1\n",
    "\"\"\"\n",
    "data = [row.split() for row in example.split(\"\\n\") if row != \"\"][1:]\n",
    "db = sqltables.Database()\n",
    "tab = db.load_values(data, column_names=[\"col_1\", \"col_2\"])\n",
    "tab"
   ]
  },
  {
   "cell_type": "code",
   "execution_count": 6,
   "metadata": {},
   "outputs": [
    {
     "data": {
      "text/markdown": [
       "|col\\_1|col\\_2|count|\n",
       "|-|-|-|\n",
       "|\\'a\\'|\\'1\\'|0|\n",
       "|\\'a\\'|\\'2\\'|0|\n",
       "|\\'a\\'|\\'3\\'|1|\n",
       "|\\'a\\'|\\'4\\'|1|\n",
       "|\\'b\\'|\\'1\\'|0|\n",
       "|\\'b\\'|\\'2\\'|1|\n",
       "|\\'b\\'|\\'3\\'|0|\n",
       "|\\'b\\'|\\'4\\'|1|\n",
       "|\\'c\\'|\\'1\\'|1|\n",
       "|\\'c\\'|\\'2\\'|1|\n",
       "|\\'c\\'|\\'3\\'|0|\n",
       "|\\'c\\'|\\'4\\'|0|\n",
       "|\\'d\\'|\\'1\\'|1|\n",
       "|\\'d\\'|\\'2\\'|0|\n",
       "|\\'d\\'|\\'3\\'|0|\n",
       "|\\'d\\'|\\'4\\'|0|\n"
      ],
      "text/plain": [
       "<sqltables.Table at 0x10fdd31c0>"
      ]
     },
     "execution_count": 6,
     "metadata": {},
     "output_type": "execute_result"
    }
   ],
   "source": [
    "crosstab = tab.view(\"select * from (select distinct col_1 from _), (select distinct col_2 from _)\")\n",
    "counts = tab.view(\"\"\"\n",
    "select \n",
    "  crosstab.col_1, crosstab.col_2, count(_.col_1) as count \n",
    "from crosstab left join _ using (col_1, col_2) group by crosstab.col_1, crosstab.col_2\n",
    "\"\"\", bindings={\"crosstab\": crosstab})\n",
    "counts"
   ]
  },
  {
   "cell_type": "code",
   "execution_count": 7,
   "metadata": {},
   "outputs": [],
   "source": [
    "import json\n",
    "\n",
    "class Json_group_array:\n",
    "    def __init__(self):\n",
    "        self.array = []\n",
    "        \n",
    "    def step(self, x):\n",
    "        self.array.append(x)\n",
    "        \n",
    "    def finalize(self):\n",
    "        return json.dumps(self.array)\n",
    "    \n",
    "db._conn.create_aggregate(\"json_group_array\", 1, Json_group_array)"
   ]
  },
  {
   "cell_type": "code",
   "execution_count": 8,
   "metadata": {},
   "outputs": [
    {
     "data": {
      "text/plain": [
       "[[0, 0, 1, 1], [0, 1, 0, 1], [1, 1, 0, 0], [1, 0, 0, 0]]"
      ]
     },
     "execution_count": 8,
     "metadata": {},
     "output_type": "execute_result"
    }
   ],
   "source": [
    "[json.loads(x) for [x] in counts.view(\"select json_group_array(count) from _ group by col_1 order by col_1, col_2\")]"
   ]
  },
  {
   "cell_type": "code",
   "execution_count": 9,
   "metadata": {},
   "outputs": [
    {
     "data": {
      "text/markdown": [
       "|text|\n",
       "|-|\n",
       "|\\'Andy \\| max min \\| tea \\| pal\\'|\n",
       "|\\'no limit \\| toy 2011 \\| hess \\| mix\\'|\n",
       "|\\'Andy \\| Andy \\| toy 2011\\| pal\\'|\n"
      ],
      "text/plain": [
       "<sqltables.Table at 0x10fe747c0>"
      ]
     },
     "execution_count": 9,
     "metadata": {},
     "output_type": "execute_result"
    }
   ],
   "source": [
    "# https://stackoverflow.com/questions/64793652/count-top-most-frequent-phrases-in-a-text-column-in-pandas\n",
    "import re\n",
    "example = \"\"\"\n",
    "Andy | max min | tea | pal\n",
    "no limit | toy 2011 | hess | mix\n",
    "Andy | Andy | toy 2011| pal\n",
    "\"\"\"\n",
    "db = sqltables.Database()\n",
    "tab = db.load_values(([x] for x in example.split(\"\\n\")[1:-1]), column_names=[\"text\"])\n",
    "tab"
   ]
  },
  {
   "cell_type": "code",
   "execution_count": 10,
   "metadata": {},
   "outputs": [
    {
     "data": {
      "text/markdown": [
       "|text1|count|\n",
       "|-|-|\n",
       "|\\'Andy\\'|3|\n",
       "|\\'toy 2011\\'|2|\n",
       "|\\'pal\\'|2|\n"
      ],
      "text/plain": [
       "<sqltables.Table at 0x10fe74fd0>"
      ]
     },
     "execution_count": 10,
     "metadata": {},
     "output_type": "execute_result"
    }
   ],
   "source": [
    "tab2 = db.load_values(([x] for [text] in tab for x in re.split(r\"\\s*\\|\\s*\", text)), column_names=[\"text1\"])\n",
    "tab2.view(\"select text1, count(*) as count from _ group by text1 order by count desc limit 3\")"
   ]
  },
  {
   "cell_type": "code",
   "execution_count": 11,
   "metadata": {},
   "outputs": [
    {
     "data": {
      "text/markdown": [
       "|City|Country|\n",
       "|-|-|\n",
       "|\\'Saddle\\(Canada\\)\\'|\\'Other\\'|\n",
       "|\\'Dublin\\'|\\'Other\\'|\n",
       "|\\'Detroit\\'|\\'USA\\'|\n",
       "|\\'Vancouver\\'|\\'Canada\\'|\n",
       "|\\'NYC\\: US\\'|\\'Other\\'|\n"
      ],
      "text/plain": [
       "<sqltables.Table at 0x10fdeca30>"
      ]
     },
     "execution_count": 11,
     "metadata": {},
     "output_type": "execute_result"
    }
   ],
   "source": [
    "# https://stackoverflow.com/questions/64809403/change-the-value-of-a-column-based-on-finding-characters-in-another-column-with\n",
    "example = \"\"\"\n",
    "City - Country\n",
    "Saddle(Canada) - Other\n",
    "Dublin - Other\n",
    "Detroit - USA\n",
    "Vancouver - Canada\n",
    "NYC: US - Other\n",
    "\"\"\"\n",
    "[header, *data] = example.split(\"\\n\")[1:-1]\n",
    "column_names = header.split(\" - \")\n",
    "rows = [x.split(\" - \") for x in data]\n",
    "db = sqltables.Database()\n",
    "import re, sqlite3\n",
    "sqlite3.enable_callback_tracebacks(True)\n",
    "db._conn.create_function(\"regexp\", 2, lambda x, y: bool(re.search(x, y)))\n",
    "tab = db.load_values(rows, column_names=column_names)\n",
    "tab"
   ]
  },
  {
   "cell_type": "code",
   "execution_count": 12,
   "metadata": {},
   "outputs": [
    {
     "data": {
      "text/markdown": [
       "|City|regexp\\(\\'US\\'\\, City\\)|\n",
       "|-|-|\n",
       "|\\'Saddle\\(Canada\\)\\'|0|\n",
       "|\\'Dublin\\'|0|\n",
       "|\\'Detroit\\'|0|\n",
       "|\\'Vancouver\\'|0|\n",
       "|\\'NYC\\: US\\'|1|\n"
      ],
      "text/plain": [
       "<sqltables.Table at 0x10fe74100>"
      ]
     },
     "execution_count": 12,
     "metadata": {},
     "output_type": "execute_result"
    }
   ],
   "source": [
    "tab.view(\"select City, regexp('US', City) from _\")"
   ]
  },
  {
   "cell_type": "code",
   "execution_count": 13,
   "metadata": {},
   "outputs": [
    {
     "data": {
      "text/markdown": [
       "|priority|regex|Country|\n",
       "|-|-|-|\n",
       "|0|\\'Canada\\'|\\'Canada\\'|\n",
       "|1|\\'US\\'|\\'USA\\'|\n",
       "|2|None|None|\n"
      ],
      "text/plain": [
       "<sqltables.Table at 0x10fe940a0>"
      ]
     },
     "execution_count": 13,
     "metadata": {},
     "output_type": "execute_result"
    }
   ],
   "source": [
    "overrides = db.load_values([\n",
    "    [0, 'Canada', 'Canada'],\n",
    "    [1, 'US', 'USA'],\n",
    "    [2, None, None]\n",
    "], column_names=[\"priority\", \"regex\", \"Country\"])\n",
    "overrides"
   ]
  },
  {
   "cell_type": "code",
   "execution_count": null,
   "metadata": {},
   "outputs": [],
   "source": [
    "tab.view(\"select min(priority), City, coalesce(overrides.Country, _.Country) as Country from _, overrides where (overrides.regex is not null and regexp(overrides.regex, _.City)) or overrides.regex is null group by City order by priority\", bindings={\"overrides\": overrides})"
   ]
  },
  {
   "cell_type": "code",
   "execution_count": null,
   "metadata": {},
   "outputs": [],
   "source": [
    "squared.view(\"select cast(count(*) as float), 'foo' as s from _\")"
   ]
  },
  {
   "cell_type": "code",
   "execution_count": null,
   "metadata": {},
   "outputs": [],
   "source": [
    "squared.view('select _.a as \"*a*\", * from _,_ as _1')"
   ]
  },
  {
   "cell_type": "code",
   "execution_count": null,
   "metadata": {},
   "outputs": [],
   "source": [
    "tab = squared.table(\"select a from _ where a >= ?\", [2])\n",
    "for [n] in tab:\n",
    "    [[sum]] = squared.table(\"select sum(a2) from _ where a <= :n\", {\"n\": n})\n",
    "    print(f\"{n}: {sum}\")"
   ]
  },
  {
   "cell_type": "code",
   "execution_count": null,
   "metadata": {},
   "outputs": [],
   "source": [
    "for r in tab:\n",
    "    print(r)"
   ]
  },
  {
   "cell_type": "code",
   "execution_count": null,
   "metadata": {},
   "outputs": [],
   "source": [
    "import random\n",
    "\n",
    "rand_tab = db.load_values([[random.randint(0, 8)] for _ in range(5)], column_names=[\"u\"])\n",
    "rand_tab"
   ]
  },
  {
   "cell_type": "code",
   "execution_count": null,
   "metadata": {},
   "outputs": [],
   "source": [
    "squared.view(\"select * from _, rand where a < u order by u\", bindings={\"rand\": rand_tab})"
   ]
  },
  {
   "cell_type": "code",
   "execution_count": null,
   "metadata": {},
   "outputs": [],
   "source": [
    "[x.statement for x in db._active_iterators]"
   ]
  },
  {
   "cell_type": "code",
   "execution_count": null,
   "metadata": {},
   "outputs": [],
   "source": [
    "squared"
   ]
  },
  {
   "cell_type": "code",
   "execution_count": null,
   "metadata": {},
   "outputs": [],
   "source": [
    "properties_db = sqlite3.connect(\"properties.sqlite3\")\n",
    "properties = Table(name=\"properties\", db=properties_db)\n",
    "sales = Table(name=\"sales\", db=properties_db)"
   ]
  },
  {
   "cell_type": "code",
   "execution_count": null,
   "metadata": {},
   "outputs": [],
   "source": [
    "sales.describe(), properties.describe()"
   ]
  },
  {
   "cell_type": "code",
   "execution_count": null,
   "metadata": {},
   "outputs": [],
   "source": [
    "property_sales = sales.view(\"select * from _ join p on _.bbr = p.bbr\", p=properties)"
   ]
  },
  {
   "cell_type": "code",
   "execution_count": null,
   "metadata": {},
   "outputs": [],
   "source": [
    "property_sales.db.create_function(\"pow\", 2, lambda a, b: a**b)"
   ]
  },
  {
   "cell_type": "code",
   "execution_count": null,
   "metadata": {},
   "outputs": [],
   "source": [
    "def compute_stats(property_sales):\n",
    "    stats1 = property_sales.view(\"select city,avg(salePrice) as mean,pow(avg(pow(salePrice,2.0))-pow(avg(salePrice),2.0), 0.5) as std from _ group by city\")\n",
    "    stats2 = stats1.view(\"select *, std/mean as rho from _\")\n",
    "    return stats2"
   ]
  },
  {
   "cell_type": "code",
   "execution_count": null,
   "metadata": {},
   "outputs": [],
   "source": [
    "list(compute_stats(property_sales.view(\"select * from _ limit 10\")))"
   ]
  },
  {
   "cell_type": "code",
   "execution_count": null,
   "metadata": {},
   "outputs": [],
   "source": [
    "item_types = [x for [x] in properties.view(\"select distinct itemTypeName from _\")]"
   ]
  },
  {
   "cell_type": "code",
   "execution_count": null,
   "metadata": {},
   "outputs": [],
   "source": [
    "item_types"
   ]
  },
  {
   "cell_type": "code",
   "execution_count": null,
   "metadata": {},
   "outputs": [],
   "source": [
    "item_stats = {\n",
    "    k: compute_stats(property_sales.view(f\"select * from _ where itemTypeName = '{k}'\"))\n",
    "    for k in item_types\n",
    "}"
   ]
  },
  {
   "cell_type": "code",
   "execution_count": null,
   "metadata": {},
   "outputs": [],
   "source": [
    "item_stats[\"Villa\"].columns()"
   ]
  },
  {
   "cell_type": "code",
   "execution_count": null,
   "metadata": {},
   "outputs": [],
   "source": [
    "item_stats[\"Villa\"].values()"
   ]
  }
 ],
 "metadata": {
  "kernelspec": {
   "display_name": "Python 3",
   "language": "python",
   "name": "python3"
  },
  "language_info": {
   "codemirror_mode": {
    "name": "ipython",
    "version": 3
   },
   "file_extension": ".py",
   "mimetype": "text/x-python",
   "name": "python",
   "nbconvert_exporter": "python",
   "pygments_lexer": "ipython3",
   "version": "3.8.6"
  }
 },
 "nbformat": 4,
 "nbformat_minor": 4
}
