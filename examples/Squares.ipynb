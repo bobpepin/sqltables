{
 "cells": [
  {
   "cell_type": "markdown",
   "metadata": {},
   "source": [
    "Illustrates: \n",
    "- Logging\n",
    "- Loading data\n",
    "- Queries\n",
    "- Display\n",
    "- Retrieving column names\n",
    "- Numpy interface\n",
    "- Query parameters\n",
    "- Joins"
   ]
  },
  {
   "cell_type": "code",
   "execution_count": 2,
   "metadata": {
    "scrolled": true
   },
   "outputs": [
    {
     "name": "stderr",
     "output_type": "stream",
     "text": [
      "ERROR:root:The 'log_level' trait of an IPKernelApp instance must be any of (0, 10, 20, 30, 40, 50, 'DEBUG', 'INFO', 'WARN', 'ERROR', 'CRITICAL'), but a value of 'WORKAROUND' <class 'str'> was specified.\n"
     ]
    }
   ],
   "source": [
    "%config Application.log_level=\"WORKAROUND\"\n",
    "%config Application.log_level=\"DEBUG\"\n",
    "\n",
    "import logging\n",
    "logging.getLogger(\"notebook\").setLevel(logging.INFO)\n",
    "\n",
    "# Set to DEBUG to see what's going on under the hood\n",
    "logging.getLogger(\"sqltables\").setLevel(logging.INFO)"
   ]
  },
  {
   "cell_type": "code",
   "execution_count": 3,
   "metadata": {},
   "outputs": [],
   "source": [
    "import sqltables"
   ]
  },
  {
   "cell_type": "code",
   "execution_count": 4,
   "metadata": {},
   "outputs": [
    {
     "data": {
      "text/markdown": [
       "|val|squared|\n",
       "|-|-|\n",
       "|1|1|\n",
       "|2|4|\n",
       "|3|9|\n"
      ],
      "text/plain": [
       "<sqltables.sqltables.Table at 0x107f7ba90>"
      ]
     },
     "execution_count": 4,
     "metadata": {},
     "output_type": "execute_result"
    }
   ],
   "source": [
    "# Example from the README\n",
    "db = sqltables.Database()\n",
    "tab = db.create_table(rows=[[1], [2], [3]], column_names=[\"val\"])\n",
    "\n",
    "def square(tab):\n",
    "    return tab.view(\"select val, val*val as squared from _\")\n",
    "\n",
    "square(tab)"
   ]
  },
  {
   "cell_type": "markdown",
   "metadata": {},
   "source": [
    "# Loading, querying and displaying tables"
   ]
  },
  {
   "cell_type": "code",
   "execution_count": 5,
   "metadata": {},
   "outputs": [
    {
     "data": {
      "text/markdown": [
       "|a|\n",
       "|-|\n",
       "|0|\n",
       "|1|\n",
       "|2|\n",
       "|3|\n",
       "|4|\n",
       "|5|\n",
       "|6|\n",
       "|7|\n",
       "|8|\n",
       "|9|\n"
      ],
      "text/plain": [
       "<sqltables.sqltables.Table at 0x107f8b760>"
      ]
     },
     "execution_count": 5,
     "metadata": {},
     "output_type": "execute_result"
    }
   ],
   "source": [
    "# Create a new in-memory database\n",
    "db = sqltables.Database()\n",
    "\n",
    "# Load values 0...9 from an iterable of rows\n",
    "tab = db.create_table(rows=[[i] for i in range(10)], column_names=\"a\")\n",
    "tab"
   ]
  },
  {
   "cell_type": "code",
   "execution_count": 6,
   "metadata": {},
   "outputs": [
    {
     "data": {
      "text/markdown": [
       "|a|a2|\n",
       "|-|-|\n",
       "|0|0|\n",
       "|1|1|\n",
       "|2|4|\n",
       "|3|9|\n",
       "|4|16|\n",
       "|5|25|\n",
       "|6|36|\n",
       "|7|49|\n",
       "|8|64|\n",
       "|9|81|\n"
      ],
      "text/plain": [
       "<sqltables.sqltables.Table at 0x107f8b340>"
      ]
     },
     "execution_count": 6,
     "metadata": {},
     "output_type": "execute_result"
    }
   ],
   "source": [
    "# Create a view with the values squared\n",
    "squared = tab.view(\"select a, a*a as a2 from _\")\n",
    "squared"
   ]
  },
  {
   "cell_type": "code",
   "execution_count": 7,
   "metadata": {},
   "outputs": [
    {
     "data": {
      "text/plain": [
       "(['a', 'a2'],\n",
       " [Row(a=0, a2=0),\n",
       "  Row(a=1, a2=1),\n",
       "  Row(a=2, a2=4),\n",
       "  Row(a=3, a2=9),\n",
       "  Row(a=4, a2=16),\n",
       "  Row(a=5, a2=25),\n",
       "  Row(a=6, a2=36),\n",
       "  Row(a=7, a2=49),\n",
       "  Row(a=8, a2=64),\n",
       "  Row(a=9, a2=81)])"
      ]
     },
     "execution_count": 7,
     "metadata": {},
     "output_type": "execute_result"
    }
   ],
   "source": [
    "# Access values through the iterator interface\n",
    "it = iter(squared)\n",
    "it.column_names, list(it)"
   ]
  },
  {
   "cell_type": "markdown",
   "metadata": {},
   "source": [
    "# Numpy interface"
   ]
  },
  {
   "cell_type": "code",
   "execution_count": 8,
   "metadata": {},
   "outputs": [],
   "source": [
    "import numpy as np"
   ]
  },
  {
   "cell_type": "code",
   "execution_count": 9,
   "metadata": {},
   "outputs": [
    {
     "data": {
      "text/plain": [
       "array([[ 0,  0],\n",
       "       [ 1,  1],\n",
       "       [ 2,  4],\n",
       "       [ 3,  9],\n",
       "       [ 4, 16],\n",
       "       [ 5, 25],\n",
       "       [ 6, 36],\n",
       "       [ 7, 49],\n",
       "       [ 8, 64],\n",
       "       [ 9, 81]])"
      ]
     },
     "execution_count": 9,
     "metadata": {},
     "output_type": "execute_result"
    }
   ],
   "source": [
    "np.array(list(squared))"
   ]
  },
  {
   "cell_type": "markdown",
   "metadata": {},
   "source": [
    "# Query parameters"
   ]
  },
  {
   "cell_type": "code",
   "execution_count": 10,
   "metadata": {},
   "outputs": [
    {
     "name": "stdout",
     "output_type": "stream",
     "text": [
      "2: 5\n",
      "3: 14\n",
      "4: 30\n",
      "5: 55\n",
      "6: 91\n",
      "7: 140\n",
      "8: 204\n",
      "9: 285\n"
     ]
    }
   ],
   "source": [
    "tab = squared.table(\"select a from _ where a >= ?\", [2])\n",
    "for [n] in tab:\n",
    "    [[sum]] = squared.table(\"select sum(a2) from _ where a <= :n\", {\"n\": n})\n",
    "    print(f\"{n}: {sum}\")"
   ]
  },
  {
   "cell_type": "markdown",
   "metadata": {},
   "source": [
    "# Joins"
   ]
  },
  {
   "cell_type": "code",
   "execution_count": 11,
   "metadata": {},
   "outputs": [
    {
     "data": {
      "text/markdown": [
       "|u|\n",
       "|-|\n",
       "|0|\n",
       "|5|\n",
       "|4|\n",
       "|4|\n",
       "|4|\n"
      ],
      "text/plain": [
       "<sqltables.sqltables.Table at 0x107edca00>"
      ]
     },
     "execution_count": 11,
     "metadata": {},
     "output_type": "execute_result"
    }
   ],
   "source": [
    "# Create a table with 5 random values between 0 and 7\n",
    "\n",
    "import random\n",
    "\n",
    "rand_rows = [[random.randint(0, 8)] for _ in range(5)]\n",
    "rand_tab = db.create_table(rows=rand_rows, column_names=[\"u\"])\n",
    "rand_tab"
   ]
  },
  {
   "cell_type": "code",
   "execution_count": 12,
   "metadata": {},
   "outputs": [
    {
     "data": {
      "text/markdown": [
       "|a|a2|u|\n",
       "|-|-|-|\n",
       "|0|0|4|\n",
       "|0|0|4|\n",
       "|0|0|4|\n",
       "|1|1|4|\n",
       "|1|1|4|\n",
       "|1|1|4|\n",
       "|2|4|4|\n",
       "|2|4|4|\n",
       "|2|4|4|\n",
       "|3|9|4|\n",
       "|3|9|4|\n",
       "|3|9|4|\n",
       "|0|0|5|\n",
       "|1|1|5|\n",
       "|2|4|5|\n",
       "|3|9|5|\n",
       "|...|...|...|\n"
      ],
      "text/plain": [
       "<sqltables.sqltables.Table at 0x10ac68610>"
      ]
     },
     "execution_count": 12,
     "metadata": {},
     "output_type": "execute_result"
    }
   ],
   "source": [
    "# Specify additional tables to join with in the bindings parameter\n",
    "squared.view(\"select * from _, rand where a < u order by u\", \n",
    "             bindings={\"rand\": rand_tab})"
   ]
  }
 ],
 "metadata": {
  "kernelspec": {
   "display_name": "Python 3",
   "language": "python",
   "name": "python3"
  },
  "language_info": {
   "codemirror_mode": {
    "name": "ipython",
    "version": 3
   },
   "file_extension": ".py",
   "mimetype": "text/x-python",
   "name": "python",
   "nbconvert_exporter": "python",
   "pygments_lexer": "ipython3",
   "version": "3.8.7"
  }
 },
 "nbformat": 4,
 "nbformat_minor": 4
}
