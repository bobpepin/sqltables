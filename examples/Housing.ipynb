{
 "cells": [
  {
   "cell_type": "markdown",
   "metadata": {},
   "source": [
    "# Introduction\n",
    "\n",
    "This example illustrates how to work with data in an SQLite database on disk. The database itself is not included, since it was the output from scraping a housing website."
   ]
  },
  {
   "cell_type": "code",
   "execution_count": 2,
   "metadata": {},
   "outputs": [],
   "source": [
    "import sqltables"
   ]
  },
  {
   "cell_type": "markdown",
   "metadata": {},
   "source": [
    "# Accessing an existing database"
   ]
  },
  {
   "cell_type": "code",
   "execution_count": 3,
   "metadata": {},
   "outputs": [],
   "source": [
    "db = sqltables.Database(\"properties.sqlite3\")\n",
    "db.create_function(\"pow\", 2, lambda a, b: a**b)\n",
    "\n",
    "properties = db.query(\"select * from properties\")\n",
    "sales = db.query(\"select * from sales\")"
   ]
  },
  {
   "cell_type": "code",
   "execution_count": 4,
   "metadata": {},
   "outputs": [
    {
     "data": {
      "text/markdown": [
       "|residentialArea|postal|city|address|itemTypeName|bbrLink|soldLink|hasCoordinates|staticMapUrlstring|lat|lng|wishPropertyLocationLink|bbr|\n",
       "|-|-|-|-|-|-|-|-|-|-|-|-|-|\n",
       "|\\'84\\'|\\'2300\\'|\\'København S\\'|\\'Jens Otto Krags Gade 12\\, 2\\. th\\'|\\'Ejerlejlighed\\'|\\'\\~\\/boligen\\/101\\-1\\#bbr\\'|\\'\\~\\/boligen\\/101\\-1\\'|1|None|55\\.658569|12\\.568486|\\'https\\:\\/\\/minside\\.boligsiden\\.dk\\/oenskeboliger\\?postal\\=2300\\&city\\=K\\%c3\\%b8benhavn\\+S\\&street\\=Jens\\+Otto\\+Krags\\+Gade\\&housenumber\\=12\\&floorandside\\=2\\%7cth\\'|\\'101\\-1\\'|\n",
       "|\\'107\\'|\\'2300\\'|\\'København S\\'|\\'Weidekampsgade 41\\, 2\\. th\\'|\\'Ejerlejlighed\\'|\\'\\~\\/boligen\\/101\\-1000\\#bbr\\'|\\'\\~\\/boligen\\/101\\-1000\\'|1|None|55\\.666784|12\\.5822|\\'https\\:\\/\\/minside\\.boligsiden\\.dk\\/oenskeboliger\\?postal\\=2300\\&city\\=K\\%c3\\%b8benhavn\\+S\\&street\\=Weidekampsgade\\&housenumber\\=41\\&floorandside\\=2\\%7cth\\'|\\'101\\-1000\\'|\n"
      ],
      "text/plain": [
       "<sqltables.sqltables.Table at 0x111776970>"
      ]
     },
     "execution_count": 4,
     "metadata": {},
     "output_type": "execute_result"
    }
   ],
   "source": [
    "properties.view(\"select * from _ limit 2\")"
   ]
  },
  {
   "cell_type": "code",
   "execution_count": 5,
   "metadata": {
    "scrolled": true
   },
   "outputs": [
    {
     "data": {
      "text/markdown": [
       "|bbr|saleDate|salePrice|saleTypeId|saleType|\n",
       "|-|-|-|-|-|\n",
       "|\\'101\\-431096\\'|\\'2018\\-08\\-01\\'|2520000|1|\\'Fri handel\\'|\n",
       "|\\'101\\-431096\\'|\\'2017\\-09\\-29\\'|2345000|1|\\'Fri handel\\'|\n"
      ],
      "text/plain": [
       "<sqltables.sqltables.Table at 0x1117a5fd0>"
      ]
     },
     "execution_count": 5,
     "metadata": {},
     "output_type": "execute_result"
    }
   ],
   "source": [
    "sales.view(\"select * from _ limit 2\")"
   ]
  },
  {
   "cell_type": "markdown",
   "metadata": {},
   "source": [
    "# Join tables"
   ]
  },
  {
   "cell_type": "code",
   "execution_count": 6,
   "metadata": {},
   "outputs": [],
   "source": [
    "property_sales = sales.view(\"select * from _ join p on _.bbr = p.bbr\", \n",
    "                            bindings={\"p\": properties})"
   ]
  },
  {
   "cell_type": "markdown",
   "metadata": {},
   "source": [
    "# Create a function that transforms tables"
   ]
  },
  {
   "cell_type": "code",
   "execution_count": 7,
   "metadata": {},
   "outputs": [],
   "source": [
    "def compute_stats(property_sales):\n",
    "    stats1 = property_sales.view(\"\"\"\n",
    "    select \n",
    "        city,\n",
    "        avg(salePrice) as mean,\n",
    "        pow(avg(pow(salePrice,2.0))-pow(avg(salePrice),2.0), 0.5) as std \n",
    "        from _ \n",
    "        group by city\n",
    "    \"\"\")\n",
    "    stats2 = stats1.view(\"select *, std/mean as rho from _\")\n",
    "    return stats2"
   ]
  },
  {
   "cell_type": "code",
   "execution_count": 8,
   "metadata": {},
   "outputs": [
    {
     "data": {
      "text/plain": [
       "[Row(city='Brønshøj', mean=1643912.7326475927, std=1291936.5023915744, rho=0.7858911709448559),\n",
       " Row(city='Frederiksberg', mean=1909967.35626842, std=1590687.5959055678, rho=0.8328349647888005)]"
      ]
     },
     "execution_count": 8,
     "metadata": {},
     "output_type": "execute_result"
    }
   ],
   "source": [
    "list(compute_stats(property_sales))[:2]"
   ]
  },
  {
   "cell_type": "markdown",
   "metadata": {},
   "source": [
    "# Slice data and apply function to slices"
   ]
  },
  {
   "cell_type": "code",
   "execution_count": 9,
   "metadata": {},
   "outputs": [],
   "source": [
    "item_types = [x for [x] in properties.view(\"select distinct itemTypeName from _\")]"
   ]
  },
  {
   "cell_type": "code",
   "execution_count": 10,
   "metadata": {},
   "outputs": [
    {
     "data": {
      "text/plain": [
       "['Ejerlejlighed', 'Villa', 'Rækkehus', 'Fritidsbolig']"
      ]
     },
     "execution_count": 10,
     "metadata": {},
     "output_type": "execute_result"
    }
   ],
   "source": [
    "item_types"
   ]
  },
  {
   "cell_type": "code",
   "execution_count": 11,
   "metadata": {},
   "outputs": [],
   "source": [
    "item_stats = {\n",
    "    k: compute_stats(property_sales.table(\n",
    "        \"select * from _ where itemTypeName = ?\", [k]))\n",
    "    for k in item_types\n",
    "}"
   ]
  },
  {
   "cell_type": "code",
   "execution_count": 12,
   "metadata": {},
   "outputs": [
    {
     "data": {
      "text/markdown": [
       "|city|mean|std|rho|\n",
       "|-|-|-|-|\n",
       "|\\'København K\\'|7626134\\.277777778|6392582\\.316826187|0\\.8382467556929718|\n",
       "|\\'Frederiksberg C\\'|5882047\\.825242719|5777640\\.072892616|0\\.9822497614007764|\n",
       "|\\'Nordhavn\\'|5646356\\.5|3627243\\.5|0\\.6424042654763298|\n",
       "|\\'København Ø\\'|5204032\\.951704546|5429995\\.779291962|1\\.043420714219998|\n",
       "|\\'Hellerup\\'|4906243\\.431111111|3940130\\.9778663856|0\\.8030850962024256|\n"
      ],
      "text/plain": [
       "<sqltables.sqltables.Table at 0x1117a5b20>"
      ]
     },
     "execution_count": 12,
     "metadata": {},
     "output_type": "execute_result"
    }
   ],
   "source": [
    "item_stats[\"Villa\"].view(\"select * from _ order by mean desc limit 5\")"
   ]
  }
 ],
 "metadata": {
  "kernelspec": {
   "display_name": "Python 3",
   "language": "python",
   "name": "python3"
  },
  "language_info": {
   "codemirror_mode": {
    "name": "ipython",
    "version": 3
   },
   "file_extension": ".py",
   "mimetype": "text/x-python",
   "name": "python",
   "nbconvert_exporter": "python",
   "pygments_lexer": "ipython3",
   "version": "3.8.7"
  }
 },
 "nbformat": 4,
 "nbformat_minor": 4
}
